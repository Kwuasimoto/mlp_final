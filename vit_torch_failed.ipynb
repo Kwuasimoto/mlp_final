{
 "cells": [
  {
   "cell_type": "code",
   "execution_count": 1,
   "metadata": {},
   "outputs": [],
   "source": [
    "import torch\n",
    "from torch import nn\n",
    "from torch import optim\n",
    "\n",
    "from torch.utils.data import DataLoader, Dataset\n",
    "from torchvision import transforms\n",
    "\n",
    "from tqdm import tqdm\n",
    "\n",
    "from sklearn.model_selection import train_test_split\n",
    "\n",
    "import matplotlib.pyplot as plt\n",
    "import numpy as np\n",
    "import random\n",
    "import timeit\n",
    "import pandas as pd\n",
    "import pickle\n",
    "import warnings\n",
    "\n",
    "from pandas.errors import PerformanceWarning"
   ]
  },
  {
   "cell_type": "code",
   "execution_count": 2,
   "metadata": {},
   "outputs": [
    {
     "name": "stdout",
     "output_type": "stream",
     "text": [
      "48\n",
      "64.0\n"
     ]
    }
   ],
   "source": [
    "random_seed = 47\n",
    "batch_size = 512\n",
    "epochs = 40\n",
    "\n",
    "learning_rate = 1e-4\n",
    "num_classes = 10\n",
    "patch_size = 4\n",
    "img_size = 32\n",
    "in_channels = 3\n",
    "num_heads = 8\n",
    "dropout = 0.001\n",
    "hidden_dim = 768\n",
    "adam_weight_decay = 0\n",
    "adam_betas = (0.9, 0.999)\n",
    "activation = \"gelu\"\n",
    "num_encoders = 4\n",
    "embed_dim = (patch_size ** 2) * in_channels # 48\n",
    "num_patches = (img_size / patch_size) ** 2 # 49\n",
    "\n",
    "random.seed(random_seed)\n",
    "np.random.seed(random_seed)\n",
    "torch.manual_seed(random_seed)\n",
    "torch.cuda.manual_seed(random_seed)\n",
    "torch.backends.cudnn.deterministic = True\n",
    "torch.backends.cudnn.benchmark = False\n",
    "\n",
    "device = \"cuda:0\" if torch.cuda.is_available() else \"cpu\"\n",
    "\n",
    "print(embed_dim)\n",
    "print(num_patches)"
   ]
  },
  {
   "cell_type": "code",
   "execution_count": 3,
   "metadata": {},
   "outputs": [],
   "source": [
    "warnings.filterwarnings(\"ignore\", category=PerformanceWarning)"
   ]
  },
  {
   "cell_type": "code",
   "execution_count": 4,
   "metadata": {},
   "outputs": [],
   "source": [
    "## Limit device memory usage\n",
    "## https://stackoverflow.com/questions/49529372/force-gpu-memory-limit-in-pytorch\n",
    "# torch.cuda.empty_cache()"
   ]
  },
  {
   "cell_type": "code",
   "execution_count": 5,
   "metadata": {},
   "outputs": [
    {
     "name": "stdout",
     "output_type": "stream",
     "text": [
      "torch.Size([512, 67, 48])\n"
     ]
    }
   ],
   "source": [
    "class PatchEmbedding(nn.Module):\n",
    "    def __init__(self, embed_dim, patch_size, num_patches, dropout, in_channels):\n",
    "        super().__init__()\n",
    "        \n",
    "        self.patcher = nn.Sequential(\n",
    "            nn.Conv2d(\n",
    "                in_channels=in_channels,\n",
    "                out_channels=embed_dim,\n",
    "                kernel_size=patch_size,\n",
    "                stride=patch_size\n",
    "            ),\n",
    "            nn.Flatten(2)\n",
    "        )\n",
    "        \n",
    "        self.cls_token = nn.Parameter(torch.randn(size=(1, in_channels, embed_dim)), requires_grad=True)\n",
    "        self.position_embeddings = nn.Parameter(torch.randn(size=(1, int(num_patches + in_channels), embed_dim)), requires_grad=True)\n",
    "        self.dropout = nn.Dropout(p=dropout)\n",
    "        \n",
    "    def forward(self, x):\n",
    "        cls_token = self.cls_token.expand(x.shape[0], -1, -1)\n",
    "        \n",
    "        x = self.patcher(x).permute(0, 2, 1)\n",
    "        x = torch.cat([cls_token, x], dim=1)\n",
    "        x = self.position_embeddings + x\n",
    "        x = self.dropout(x)\n",
    "        \n",
    "        return x\n",
    "\n",
    "# dTypes with data must be GPU related. so specifying device in some areas may solve issues.\n",
    "model = PatchEmbedding(embed_dim, patch_size, num_patches, dropout, in_channels).to(device)\n",
    "x = torch.randn((batch_size, in_channels, img_size, img_size)).to(device)\n",
    "\n",
    "print(model(x).shape)\n",
    "# 512 - bag size\n",
    "# 50 - num of tokens to fit (Number of patches + cls_token)\n",
    "# 48 - the size of the patches (divided by 3 because rgb layers)"
   ]
  },
  {
   "cell_type": "code",
   "execution_count": 6,
   "metadata": {},
   "outputs": [],
   "source": [
    "class ViT(nn.Module):\n",
    "    def __init__(self, num_patches, num_classes, patch_size, embed_dim, num_encoders, num_heads, hidden_dim, dropout, activation, in_channels):\n",
    "        super().__init__()\n",
    "        self.embeddings_block = PatchEmbedding(embed_dim, patch_size, num_patches, dropout, in_channels)\n",
    "        \n",
    "        encoder_layer = nn.TransformerEncoderLayer(d_model=embed_dim, nhead=num_heads, dropout=dropout, activation=activation, batch_first=True, norm_first=True)\n",
    "        self.encoder_blocks = nn.TransformerEncoder(encoder_layer, num_layers=num_encoders)\n",
    "        \n",
    "        self.mlp_head = nn.Sequential(\n",
    "            nn.LayerNorm(normalized_shape=embed_dim),\n",
    "            nn.Linear(in_features=embed_dim, out_features=num_classes)\n",
    "        )\n",
    "        \n",
    "    def forward(self, x):\n",
    "        x = self.embeddings_block(x)\n",
    "        x = self.encoder_blocks(x)\n",
    "        x = self.mlp_head(x[:, 0, :])\n",
    "        return x\n",
    "        "
   ]
  },
  {
   "cell_type": "code",
   "execution_count": 7,
   "metadata": {},
   "outputs": [
    {
     "name": "stdout",
     "output_type": "stream",
     "text": [
      "torch.Size([512, 10])\n"
     ]
    },
    {
     "name": "stderr",
     "output_type": "stream",
     "text": [
      "c:\\Users\\tomsr\\Documents\\School\\aidi\\AIDI1002 - Machine Learning Programming\\week-12\\.final\\Lib\\site-packages\\torch\\nn\\modules\\transformer.py:282: UserWarning: enable_nested_tensor is True, but self.use_nested_tensor is False because encoder_layer.norm_first was True\n",
      "  warnings.warn(f\"enable_nested_tensor is True, but self.use_nested_tensor is False because {why_not_sparsity_fast_path}\")\n"
     ]
    }
   ],
   "source": [
    "model = ViT(num_patches, num_classes, patch_size, embed_dim, num_encoders, num_heads, hidden_dim, dropout, activation, in_channels).to(device)\n",
    "x = torch.randn((batch_size, in_channels, img_size, img_size)).to(device)\n",
    "print(model(x).shape)"
   ]
  },
  {
   "cell_type": "markdown",
   "metadata": {},
   "source": [
    "## Load Meta Data\n",
    "\n",
    "`num_cases_per_batch`, </br>\n",
    "`label_names`, </br>\n",
    "`num_vis` </br>"
   ]
  },
  {
   "cell_type": "code",
   "execution_count": 8,
   "metadata": {},
   "outputs": [],
   "source": [
    "cifar_meta_file = open(\"./cifar-10-python/cifar-10-batches-py/batches.meta\", \"rb\")\n",
    "cifar_meta_obj = pickle.load(cifar_meta_file, encoding=\"bytes\")"
   ]
  },
  {
   "cell_type": "markdown",
   "metadata": {},
   "source": [
    "## Load Data"
   ]
  },
  {
   "cell_type": "code",
   "execution_count": 9,
   "metadata": {},
   "outputs": [
    {
     "data": {
      "text/html": [
       "<div>\n",
       "<style scoped>\n",
       "    .dataframe tbody tr th:only-of-type {\n",
       "        vertical-align: middle;\n",
       "    }\n",
       "\n",
       "    .dataframe tbody tr th {\n",
       "        vertical-align: top;\n",
       "    }\n",
       "\n",
       "    .dataframe thead th {\n",
       "        text-align: right;\n",
       "    }\n",
       "</style>\n",
       "<table border=\"1\" class=\"dataframe\">\n",
       "  <thead>\n",
       "    <tr style=\"text-align: right;\">\n",
       "      <th></th>\n",
       "      <th>label</th>\n",
       "      <th>filename</th>\n",
       "      <th>category</th>\n",
       "      <th>pixel0</th>\n",
       "      <th>pixel1</th>\n",
       "      <th>pixel2</th>\n",
       "      <th>pixel3</th>\n",
       "      <th>pixel4</th>\n",
       "      <th>pixel5</th>\n",
       "      <th>pixel6</th>\n",
       "      <th>...</th>\n",
       "      <th>pixel3062</th>\n",
       "      <th>pixel3063</th>\n",
       "      <th>pixel3064</th>\n",
       "      <th>pixel3065</th>\n",
       "      <th>pixel3066</th>\n",
       "      <th>pixel3067</th>\n",
       "      <th>pixel3068</th>\n",
       "      <th>pixel3069</th>\n",
       "      <th>pixel3070</th>\n",
       "      <th>pixel3071</th>\n",
       "    </tr>\n",
       "  </thead>\n",
       "  <tbody>\n",
       "    <tr>\n",
       "      <th>0</th>\n",
       "      <td>6</td>\n",
       "      <td>b'leptodactylus_pentadactylus_s_000004.png'</td>\n",
       "      <td>b'frog'</td>\n",
       "      <td>59</td>\n",
       "      <td>43</td>\n",
       "      <td>50</td>\n",
       "      <td>68</td>\n",
       "      <td>98</td>\n",
       "      <td>119</td>\n",
       "      <td>139</td>\n",
       "      <td>...</td>\n",
       "      <td>59</td>\n",
       "      <td>58</td>\n",
       "      <td>65</td>\n",
       "      <td>59</td>\n",
       "      <td>46</td>\n",
       "      <td>57</td>\n",
       "      <td>104</td>\n",
       "      <td>140</td>\n",
       "      <td>84</td>\n",
       "      <td>72</td>\n",
       "    </tr>\n",
       "    <tr>\n",
       "      <th>1</th>\n",
       "      <td>9</td>\n",
       "      <td>b'camion_s_000148.png'</td>\n",
       "      <td>b'truck'</td>\n",
       "      <td>154</td>\n",
       "      <td>126</td>\n",
       "      <td>105</td>\n",
       "      <td>102</td>\n",
       "      <td>125</td>\n",
       "      <td>155</td>\n",
       "      <td>172</td>\n",
       "      <td>...</td>\n",
       "      <td>22</td>\n",
       "      <td>42</td>\n",
       "      <td>67</td>\n",
       "      <td>101</td>\n",
       "      <td>122</td>\n",
       "      <td>133</td>\n",
       "      <td>136</td>\n",
       "      <td>139</td>\n",
       "      <td>142</td>\n",
       "      <td>144</td>\n",
       "    </tr>\n",
       "    <tr>\n",
       "      <th>2</th>\n",
       "      <td>9</td>\n",
       "      <td>b'tipper_truck_s_001250.png'</td>\n",
       "      <td>b'truck'</td>\n",
       "      <td>255</td>\n",
       "      <td>253</td>\n",
       "      <td>253</td>\n",
       "      <td>253</td>\n",
       "      <td>253</td>\n",
       "      <td>253</td>\n",
       "      <td>253</td>\n",
       "      <td>...</td>\n",
       "      <td>78</td>\n",
       "      <td>83</td>\n",
       "      <td>80</td>\n",
       "      <td>69</td>\n",
       "      <td>66</td>\n",
       "      <td>72</td>\n",
       "      <td>79</td>\n",
       "      <td>83</td>\n",
       "      <td>83</td>\n",
       "      <td>84</td>\n",
       "    </tr>\n",
       "    <tr>\n",
       "      <th>3</th>\n",
       "      <td>4</td>\n",
       "      <td>b'american_elk_s_001521.png'</td>\n",
       "      <td>b'deer'</td>\n",
       "      <td>28</td>\n",
       "      <td>37</td>\n",
       "      <td>38</td>\n",
       "      <td>42</td>\n",
       "      <td>44</td>\n",
       "      <td>40</td>\n",
       "      <td>40</td>\n",
       "      <td>...</td>\n",
       "      <td>53</td>\n",
       "      <td>39</td>\n",
       "      <td>59</td>\n",
       "      <td>42</td>\n",
       "      <td>44</td>\n",
       "      <td>48</td>\n",
       "      <td>38</td>\n",
       "      <td>28</td>\n",
       "      <td>37</td>\n",
       "      <td>46</td>\n",
       "    </tr>\n",
       "    <tr>\n",
       "      <th>4</th>\n",
       "      <td>1</td>\n",
       "      <td>b'station_wagon_s_000293.png'</td>\n",
       "      <td>b'automobile'</td>\n",
       "      <td>170</td>\n",
       "      <td>168</td>\n",
       "      <td>177</td>\n",
       "      <td>183</td>\n",
       "      <td>181</td>\n",
       "      <td>177</td>\n",
       "      <td>181</td>\n",
       "      <td>...</td>\n",
       "      <td>92</td>\n",
       "      <td>88</td>\n",
       "      <td>85</td>\n",
       "      <td>82</td>\n",
       "      <td>83</td>\n",
       "      <td>79</td>\n",
       "      <td>78</td>\n",
       "      <td>82</td>\n",
       "      <td>78</td>\n",
       "      <td>80</td>\n",
       "    </tr>\n",
       "  </tbody>\n",
       "</table>\n",
       "<p>5 rows × 3075 columns</p>\n",
       "</div>"
      ],
      "text/plain": [
       "   label                                     filename       category  pixel0  \\\n",
       "0      6  b'leptodactylus_pentadactylus_s_000004.png'        b'frog'      59   \n",
       "1      9                       b'camion_s_000148.png'       b'truck'     154   \n",
       "2      9                 b'tipper_truck_s_001250.png'       b'truck'     255   \n",
       "3      4                 b'american_elk_s_001521.png'        b'deer'      28   \n",
       "4      1                b'station_wagon_s_000293.png'  b'automobile'     170   \n",
       "\n",
       "   pixel1  pixel2  pixel3  pixel4  pixel5  pixel6  ...  pixel3062  pixel3063  \\\n",
       "0      43      50      68      98     119     139  ...         59         58   \n",
       "1     126     105     102     125     155     172  ...         22         42   \n",
       "2     253     253     253     253     253     253  ...         78         83   \n",
       "3      37      38      42      44      40      40  ...         53         39   \n",
       "4     168     177     183     181     177     181  ...         92         88   \n",
       "\n",
       "   pixel3064  pixel3065  pixel3066  pixel3067  pixel3068  pixel3069  \\\n",
       "0         65         59         46         57        104        140   \n",
       "1         67        101        122        133        136        139   \n",
       "2         80         69         66         72         79         83   \n",
       "3         59         42         44         48         38         28   \n",
       "4         85         82         83         79         78         82   \n",
       "\n",
       "   pixel3070  pixel3071  \n",
       "0         84         72  \n",
       "1        142        144  \n",
       "2         83         84  \n",
       "3         37         46  \n",
       "4         78         80  \n",
       "\n",
       "[5 rows x 3075 columns]"
      ]
     },
     "execution_count": 9,
     "metadata": {},
     "output_type": "execute_result"
    }
   ],
   "source": [
    "# cifar_dataset = CIFAR10(root='./data', download=True)\n",
    "cifar_data_file = open(\"./cifar-10-python/cifar-10-batches-py/data_batch_1\", \"rb\")\n",
    "\n",
    "def cifar_batch_to_df(file, meta):\n",
    "    obj = pickle.load(file, encoding=\"bytes\")\n",
    "    file.close()\n",
    "    \n",
    "    data = obj[b\"data\"]\n",
    "    labels = obj[b\"labels\"]\n",
    "    filenames = obj[b\"filenames\"]\n",
    "    categories = [meta[b\"label_names\"][label] for label in labels]\n",
    " \n",
    "    df = pd.DataFrame(data, columns=[f\"pixel{x}\" for x in range(len(data[0]))])\n",
    "    df.insert(loc=0, column=\"label\", value=labels)\n",
    "    df.insert(loc=1, column=\"filename\", value=filenames)\n",
    "    df.insert(loc=2, column=\"category\", value=categories)\n",
    "\n",
    "    return df\n",
    "    \n",
    "cifar_training_df = cifar_batch_to_df(cifar_data_file, cifar_meta_obj)\n",
    "\n",
    "cifar_training_df.head(5)"
   ]
  },
  {
   "cell_type": "code",
   "execution_count": 10,
   "metadata": {},
   "outputs": [
    {
     "data": {
      "text/html": [
       "<div>\n",
       "<style scoped>\n",
       "    .dataframe tbody tr th:only-of-type {\n",
       "        vertical-align: middle;\n",
       "    }\n",
       "\n",
       "    .dataframe tbody tr th {\n",
       "        vertical-align: top;\n",
       "    }\n",
       "\n",
       "    .dataframe thead th {\n",
       "        text-align: right;\n",
       "    }\n",
       "</style>\n",
       "<table border=\"1\" class=\"dataframe\">\n",
       "  <thead>\n",
       "    <tr style=\"text-align: right;\">\n",
       "      <th></th>\n",
       "      <th>label</th>\n",
       "      <th>filename</th>\n",
       "      <th>category</th>\n",
       "      <th>pixel0</th>\n",
       "      <th>pixel1</th>\n",
       "      <th>pixel2</th>\n",
       "      <th>pixel3</th>\n",
       "      <th>pixel4</th>\n",
       "      <th>pixel5</th>\n",
       "      <th>pixel6</th>\n",
       "      <th>...</th>\n",
       "      <th>pixel3062</th>\n",
       "      <th>pixel3063</th>\n",
       "      <th>pixel3064</th>\n",
       "      <th>pixel3065</th>\n",
       "      <th>pixel3066</th>\n",
       "      <th>pixel3067</th>\n",
       "      <th>pixel3068</th>\n",
       "      <th>pixel3069</th>\n",
       "      <th>pixel3070</th>\n",
       "      <th>pixel3071</th>\n",
       "    </tr>\n",
       "  </thead>\n",
       "  <tbody>\n",
       "    <tr>\n",
       "      <th>9995</th>\n",
       "      <td>8</td>\n",
       "      <td>b'cabin_cruiser_s_000783.png'</td>\n",
       "      <td>b'ship'</td>\n",
       "      <td>76</td>\n",
       "      <td>76</td>\n",
       "      <td>77</td>\n",
       "      <td>76</td>\n",
       "      <td>75</td>\n",
       "      <td>76</td>\n",
       "      <td>76</td>\n",
       "      <td>...</td>\n",
       "      <td>228</td>\n",
       "      <td>185</td>\n",
       "      <td>177</td>\n",
       "      <td>223</td>\n",
       "      <td>239</td>\n",
       "      <td>239</td>\n",
       "      <td>235</td>\n",
       "      <td>236</td>\n",
       "      <td>234</td>\n",
       "      <td>236</td>\n",
       "    </tr>\n",
       "    <tr>\n",
       "      <th>9996</th>\n",
       "      <td>3</td>\n",
       "      <td>b'tabby_cat_s_000494.png'</td>\n",
       "      <td>b'cat'</td>\n",
       "      <td>81</td>\n",
       "      <td>91</td>\n",
       "      <td>98</td>\n",
       "      <td>106</td>\n",
       "      <td>108</td>\n",
       "      <td>110</td>\n",
       "      <td>80</td>\n",
       "      <td>...</td>\n",
       "      <td>126</td>\n",
       "      <td>107</td>\n",
       "      <td>143</td>\n",
       "      <td>155</td>\n",
       "      <td>156</td>\n",
       "      <td>160</td>\n",
       "      <td>173</td>\n",
       "      <td>129</td>\n",
       "      <td>147</td>\n",
       "      <td>160</td>\n",
       "    </tr>\n",
       "    <tr>\n",
       "      <th>9997</th>\n",
       "      <td>5</td>\n",
       "      <td>b'pekinese_s_002005.png'</td>\n",
       "      <td>b'dog'</td>\n",
       "      <td>20</td>\n",
       "      <td>19</td>\n",
       "      <td>15</td>\n",
       "      <td>15</td>\n",
       "      <td>14</td>\n",
       "      <td>13</td>\n",
       "      <td>12</td>\n",
       "      <td>...</td>\n",
       "      <td>114</td>\n",
       "      <td>112</td>\n",
       "      <td>68</td>\n",
       "      <td>50</td>\n",
       "      <td>52</td>\n",
       "      <td>52</td>\n",
       "      <td>51</td>\n",
       "      <td>50</td>\n",
       "      <td>53</td>\n",
       "      <td>47</td>\n",
       "    </tr>\n",
       "    <tr>\n",
       "      <th>9998</th>\n",
       "      <td>1</td>\n",
       "      <td>b'convertible_s_002525.png'</td>\n",
       "      <td>b'automobile'</td>\n",
       "      <td>25</td>\n",
       "      <td>15</td>\n",
       "      <td>23</td>\n",
       "      <td>17</td>\n",
       "      <td>23</td>\n",
       "      <td>51</td>\n",
       "      <td>74</td>\n",
       "      <td>...</td>\n",
       "      <td>87</td>\n",
       "      <td>84</td>\n",
       "      <td>83</td>\n",
       "      <td>84</td>\n",
       "      <td>79</td>\n",
       "      <td>78</td>\n",
       "      <td>78</td>\n",
       "      <td>80</td>\n",
       "      <td>81</td>\n",
       "      <td>80</td>\n",
       "    </tr>\n",
       "    <tr>\n",
       "      <th>9999</th>\n",
       "      <td>7</td>\n",
       "      <td>b'broodmare_s_000763.png'</td>\n",
       "      <td>b'horse'</td>\n",
       "      <td>73</td>\n",
       "      <td>98</td>\n",
       "      <td>99</td>\n",
       "      <td>77</td>\n",
       "      <td>59</td>\n",
       "      <td>146</td>\n",
       "      <td>214</td>\n",
       "      <td>...</td>\n",
       "      <td>84</td>\n",
       "      <td>89</td>\n",
       "      <td>88</td>\n",
       "      <td>85</td>\n",
       "      <td>93</td>\n",
       "      <td>93</td>\n",
       "      <td>90</td>\n",
       "      <td>94</td>\n",
       "      <td>58</td>\n",
       "      <td>26</td>\n",
       "    </tr>\n",
       "  </tbody>\n",
       "</table>\n",
       "<p>5 rows × 3075 columns</p>\n",
       "</div>"
      ],
      "text/plain": [
       "      label                       filename       category  pixel0  pixel1  \\\n",
       "9995      8  b'cabin_cruiser_s_000783.png'        b'ship'      76      76   \n",
       "9996      3      b'tabby_cat_s_000494.png'         b'cat'      81      91   \n",
       "9997      5       b'pekinese_s_002005.png'         b'dog'      20      19   \n",
       "9998      1    b'convertible_s_002525.png'  b'automobile'      25      15   \n",
       "9999      7      b'broodmare_s_000763.png'       b'horse'      73      98   \n",
       "\n",
       "      pixel2  pixel3  pixel4  pixel5  pixel6  ...  pixel3062  pixel3063  \\\n",
       "9995      77      76      75      76      76  ...        228        185   \n",
       "9996      98     106     108     110      80  ...        126        107   \n",
       "9997      15      15      14      13      12  ...        114        112   \n",
       "9998      23      17      23      51      74  ...         87         84   \n",
       "9999      99      77      59     146     214  ...         84         89   \n",
       "\n",
       "      pixel3064  pixel3065  pixel3066  pixel3067  pixel3068  pixel3069  \\\n",
       "9995        177        223        239        239        235        236   \n",
       "9996        143        155        156        160        173        129   \n",
       "9997         68         50         52         52         51         50   \n",
       "9998         83         84         79         78         78         80   \n",
       "9999         88         85         93         93         90         94   \n",
       "\n",
       "      pixel3070  pixel3071  \n",
       "9995        234        236  \n",
       "9996        147        160  \n",
       "9997         53         47  \n",
       "9998         81         80  \n",
       "9999         58         26  \n",
       "\n",
       "[5 rows x 3075 columns]"
      ]
     },
     "execution_count": 10,
     "metadata": {},
     "output_type": "execute_result"
    }
   ],
   "source": [
    "cifar_test_file = open(\"./cifar-10-python/cifar-10-batches-py/test_batch\", \"rb\")\n",
    "\n",
    "cifar_test_df = cifar_batch_to_df(cifar_test_file, cifar_meta_obj)\n",
    "\n",
    "cifar_test_df.tail(5)"
   ]
  },
  {
   "cell_type": "markdown",
   "metadata": {},
   "source": [
    "## Convert DF data into image and show"
   ]
  },
  {
   "cell_type": "code",
   "execution_count": 11,
   "metadata": {},
   "outputs": [
    {
     "data": {
      "image/png": "[encoded data removed]",
      "text/plain": [
       "<Figure size 640x480 with 1 Axes>"
      ]
     },
     "metadata": {},
     "output_type": "display_data"
    }
   ],
   "source": [
    "# Recreate the bytes object from the bytearray\n",
    "img_bytes = np.array([*cifar_training_df.iloc[0, 3:]])\n",
    "label = cifar_training_df.iloc[0, 2:3]\n",
    "\n",
    "reconstructed_img = img_bytes.reshape(3, 32, 32)\n",
    "permuted_image = reconstructed_img.transpose(1, 2, 0)\n",
    "\n",
    "plt.imshow(permuted_image)\n",
    "plt.title(f'CIFAR-10 Image (Class: {label})')\n",
    "plt.show()"
   ]
  },
  {
   "cell_type": "code",
   "execution_count": 12,
   "metadata": {},
   "outputs": [
    {
     "data": {
      "text/html": [
       "<div>\n",
       "<style scoped>\n",
       "    .dataframe tbody tr th:only-of-type {\n",
       "        vertical-align: middle;\n",
       "    }\n",
       "\n",
       "    .dataframe tbody tr th {\n",
       "        vertical-align: top;\n",
       "    }\n",
       "\n",
       "    .dataframe thead th {\n",
       "        text-align: right;\n",
       "    }\n",
       "</style>\n",
       "<table border=\"1\" class=\"dataframe\">\n",
       "  <thead>\n",
       "    <tr style=\"text-align: right;\">\n",
       "      <th></th>\n",
       "      <th>pixel0</th>\n",
       "      <th>pixel1</th>\n",
       "      <th>pixel2</th>\n",
       "      <th>pixel3</th>\n",
       "      <th>pixel4</th>\n",
       "      <th>pixel5</th>\n",
       "      <th>pixel6</th>\n",
       "      <th>pixel7</th>\n",
       "      <th>pixel8</th>\n",
       "      <th>pixel9</th>\n",
       "      <th>...</th>\n",
       "      <th>pixel3062</th>\n",
       "      <th>pixel3063</th>\n",
       "      <th>pixel3064</th>\n",
       "      <th>pixel3065</th>\n",
       "      <th>pixel3066</th>\n",
       "      <th>pixel3067</th>\n",
       "      <th>pixel3068</th>\n",
       "      <th>pixel3069</th>\n",
       "      <th>pixel3070</th>\n",
       "      <th>pixel3071</th>\n",
       "    </tr>\n",
       "  </thead>\n",
       "  <tbody>\n",
       "    <tr>\n",
       "      <th>0</th>\n",
       "      <td>158</td>\n",
       "      <td>159</td>\n",
       "      <td>165</td>\n",
       "      <td>166</td>\n",
       "      <td>160</td>\n",
       "      <td>156</td>\n",
       "      <td>162</td>\n",
       "      <td>159</td>\n",
       "      <td>158</td>\n",
       "      <td>159</td>\n",
       "      <td>...</td>\n",
       "      <td>130</td>\n",
       "      <td>123</td>\n",
       "      <td>145</td>\n",
       "      <td>167</td>\n",
       "      <td>182</td>\n",
       "      <td>175</td>\n",
       "      <td>145</td>\n",
       "      <td>124</td>\n",
       "      <td>129</td>\n",
       "      <td>110</td>\n",
       "    </tr>\n",
       "    <tr>\n",
       "      <th>1</th>\n",
       "      <td>235</td>\n",
       "      <td>231</td>\n",
       "      <td>232</td>\n",
       "      <td>232</td>\n",
       "      <td>232</td>\n",
       "      <td>232</td>\n",
       "      <td>232</td>\n",
       "      <td>232</td>\n",
       "      <td>232</td>\n",
       "      <td>232</td>\n",
       "      <td>...</td>\n",
       "      <td>108</td>\n",
       "      <td>117</td>\n",
       "      <td>123</td>\n",
       "      <td>133</td>\n",
       "      <td>141</td>\n",
       "      <td>153</td>\n",
       "      <td>163</td>\n",
       "      <td>178</td>\n",
       "      <td>191</td>\n",
       "      <td>199</td>\n",
       "    </tr>\n",
       "    <tr>\n",
       "      <th>2</th>\n",
       "      <td>158</td>\n",
       "      <td>158</td>\n",
       "      <td>139</td>\n",
       "      <td>132</td>\n",
       "      <td>166</td>\n",
       "      <td>182</td>\n",
       "      <td>187</td>\n",
       "      <td>193</td>\n",
       "      <td>199</td>\n",
       "      <td>205</td>\n",
       "      <td>...</td>\n",
       "      <td>45</td>\n",
       "      <td>46</td>\n",
       "      <td>44</td>\n",
       "      <td>44</td>\n",
       "      <td>43</td>\n",
       "      <td>52</td>\n",
       "      <td>37</td>\n",
       "      <td>8</td>\n",
       "      <td>3</td>\n",
       "      <td>7</td>\n",
       "    </tr>\n",
       "    <tr>\n",
       "      <th>3</th>\n",
       "      <td>155</td>\n",
       "      <td>167</td>\n",
       "      <td>176</td>\n",
       "      <td>190</td>\n",
       "      <td>177</td>\n",
       "      <td>166</td>\n",
       "      <td>168</td>\n",
       "      <td>166</td>\n",
       "      <td>170</td>\n",
       "      <td>179</td>\n",
       "      <td>...</td>\n",
       "      <td>52</td>\n",
       "      <td>55</td>\n",
       "      <td>70</td>\n",
       "      <td>103</td>\n",
       "      <td>105</td>\n",
       "      <td>72</td>\n",
       "      <td>53</td>\n",
       "      <td>50</td>\n",
       "      <td>52</td>\n",
       "      <td>50</td>\n",
       "    </tr>\n",
       "    <tr>\n",
       "      <th>4</th>\n",
       "      <td>65</td>\n",
       "      <td>70</td>\n",
       "      <td>48</td>\n",
       "      <td>30</td>\n",
       "      <td>23</td>\n",
       "      <td>40</td>\n",
       "      <td>44</td>\n",
       "      <td>45</td>\n",
       "      <td>45</td>\n",
       "      <td>40</td>\n",
       "      <td>...</td>\n",
       "      <td>102</td>\n",
       "      <td>127</td>\n",
       "      <td>156</td>\n",
       "      <td>139</td>\n",
       "      <td>131</td>\n",
       "      <td>130</td>\n",
       "      <td>147</td>\n",
       "      <td>136</td>\n",
       "      <td>146</td>\n",
       "      <td>117</td>\n",
       "    </tr>\n",
       "    <tr>\n",
       "      <th>...</th>\n",
       "      <td>...</td>\n",
       "      <td>...</td>\n",
       "      <td>...</td>\n",
       "      <td>...</td>\n",
       "      <td>...</td>\n",
       "      <td>...</td>\n",
       "      <td>...</td>\n",
       "      <td>...</td>\n",
       "      <td>...</td>\n",
       "      <td>...</td>\n",
       "      <td>...</td>\n",
       "      <td>...</td>\n",
       "      <td>...</td>\n",
       "      <td>...</td>\n",
       "      <td>...</td>\n",
       "      <td>...</td>\n",
       "      <td>...</td>\n",
       "      <td>...</td>\n",
       "      <td>...</td>\n",
       "      <td>...</td>\n",
       "      <td>...</td>\n",
       "    </tr>\n",
       "    <tr>\n",
       "      <th>995</th>\n",
       "      <td>184</td>\n",
       "      <td>196</td>\n",
       "      <td>187</td>\n",
       "      <td>182</td>\n",
       "      <td>198</td>\n",
       "      <td>206</td>\n",
       "      <td>214</td>\n",
       "      <td>215</td>\n",
       "      <td>211</td>\n",
       "      <td>211</td>\n",
       "      <td>...</td>\n",
       "      <td>134</td>\n",
       "      <td>130</td>\n",
       "      <td>171</td>\n",
       "      <td>128</td>\n",
       "      <td>100</td>\n",
       "      <td>159</td>\n",
       "      <td>157</td>\n",
       "      <td>101</td>\n",
       "      <td>65</td>\n",
       "      <td>102</td>\n",
       "    </tr>\n",
       "    <tr>\n",
       "      <th>996</th>\n",
       "      <td>141</td>\n",
       "      <td>150</td>\n",
       "      <td>159</td>\n",
       "      <td>159</td>\n",
       "      <td>132</td>\n",
       "      <td>135</td>\n",
       "      <td>165</td>\n",
       "      <td>162</td>\n",
       "      <td>174</td>\n",
       "      <td>184</td>\n",
       "      <td>...</td>\n",
       "      <td>40</td>\n",
       "      <td>35</td>\n",
       "      <td>29</td>\n",
       "      <td>41</td>\n",
       "      <td>75</td>\n",
       "      <td>69</td>\n",
       "      <td>79</td>\n",
       "      <td>94</td>\n",
       "      <td>74</td>\n",
       "      <td>121</td>\n",
       "    </tr>\n",
       "    <tr>\n",
       "      <th>997</th>\n",
       "      <td>103</td>\n",
       "      <td>124</td>\n",
       "      <td>73</td>\n",
       "      <td>99</td>\n",
       "      <td>143</td>\n",
       "      <td>152</td>\n",
       "      <td>153</td>\n",
       "      <td>151</td>\n",
       "      <td>172</td>\n",
       "      <td>249</td>\n",
       "      <td>...</td>\n",
       "      <td>38</td>\n",
       "      <td>37</td>\n",
       "      <td>38</td>\n",
       "      <td>43</td>\n",
       "      <td>44</td>\n",
       "      <td>46</td>\n",
       "      <td>49</td>\n",
       "      <td>53</td>\n",
       "      <td>50</td>\n",
       "      <td>37</td>\n",
       "    </tr>\n",
       "    <tr>\n",
       "      <th>998</th>\n",
       "      <td>77</td>\n",
       "      <td>72</td>\n",
       "      <td>76</td>\n",
       "      <td>72</td>\n",
       "      <td>79</td>\n",
       "      <td>75</td>\n",
       "      <td>57</td>\n",
       "      <td>62</td>\n",
       "      <td>94</td>\n",
       "      <td>107</td>\n",
       "      <td>...</td>\n",
       "      <td>64</td>\n",
       "      <td>53</td>\n",
       "      <td>45</td>\n",
       "      <td>47</td>\n",
       "      <td>43</td>\n",
       "      <td>49</td>\n",
       "      <td>71</td>\n",
       "      <td>47</td>\n",
       "      <td>22</td>\n",
       "      <td>30</td>\n",
       "    </tr>\n",
       "    <tr>\n",
       "      <th>999</th>\n",
       "      <td>175</td>\n",
       "      <td>176</td>\n",
       "      <td>181</td>\n",
       "      <td>184</td>\n",
       "      <td>191</td>\n",
       "      <td>193</td>\n",
       "      <td>195</td>\n",
       "      <td>197</td>\n",
       "      <td>199</td>\n",
       "      <td>201</td>\n",
       "      <td>...</td>\n",
       "      <td>98</td>\n",
       "      <td>93</td>\n",
       "      <td>95</td>\n",
       "      <td>89</td>\n",
       "      <td>83</td>\n",
       "      <td>79</td>\n",
       "      <td>78</td>\n",
       "      <td>85</td>\n",
       "      <td>103</td>\n",
       "      <td>131</td>\n",
       "    </tr>\n",
       "  </tbody>\n",
       "</table>\n",
       "<p>1000 rows × 3072 columns</p>\n",
       "</div>"
      ],
      "text/plain": [
       "     pixel0  pixel1  pixel2  pixel3  pixel4  pixel5  pixel6  pixel7  pixel8  \\\n",
       "0       158     159     165     166     160     156     162     159     158   \n",
       "1       235     231     232     232     232     232     232     232     232   \n",
       "2       158     158     139     132     166     182     187     193     199   \n",
       "3       155     167     176     190     177     166     168     166     170   \n",
       "4        65      70      48      30      23      40      44      45      45   \n",
       "..      ...     ...     ...     ...     ...     ...     ...     ...     ...   \n",
       "995     184     196     187     182     198     206     214     215     211   \n",
       "996     141     150     159     159     132     135     165     162     174   \n",
       "997     103     124      73      99     143     152     153     151     172   \n",
       "998      77      72      76      72      79      75      57      62      94   \n",
       "999     175     176     181     184     191     193     195     197     199   \n",
       "\n",
       "     pixel9  ...  pixel3062  pixel3063  pixel3064  pixel3065  pixel3066  \\\n",
       "0       159  ...        130        123        145        167        182   \n",
       "1       232  ...        108        117        123        133        141   \n",
       "2       205  ...         45         46         44         44         43   \n",
       "3       179  ...         52         55         70        103        105   \n",
       "4        40  ...        102        127        156        139        131   \n",
       "..      ...  ...        ...        ...        ...        ...        ...   \n",
       "995     211  ...        134        130        171        128        100   \n",
       "996     184  ...         40         35         29         41         75   \n",
       "997     249  ...         38         37         38         43         44   \n",
       "998     107  ...         64         53         45         47         43   \n",
       "999     201  ...         98         93         95         89         83   \n",
       "\n",
       "     pixel3067  pixel3068  pixel3069  pixel3070  pixel3071  \n",
       "0          175        145        124        129        110  \n",
       "1          153        163        178        191        199  \n",
       "2           52         37          8          3          7  \n",
       "3           72         53         50         52         50  \n",
       "4          130        147        136        146        117  \n",
       "..         ...        ...        ...        ...        ...  \n",
       "995        159        157        101         65        102  \n",
       "996         69         79         94         74        121  \n",
       "997         46         49         53         50         37  \n",
       "998         49         71         47         22         30  \n",
       "999         79         78         85        103        131  \n",
       "\n",
       "[1000 rows x 3072 columns]"
      ]
     },
     "execution_count": 12,
     "metadata": {},
     "output_type": "execute_result"
    }
   ],
   "source": [
    "X = cifar_training_df.iloc[:, 3:]\n",
    "y = cifar_training_df.iloc[:, :1]\n",
    "\n",
    "X_test = cifar_test_df.iloc[:1000, 3:]\n",
    "y_test = cifar_test_df.iloc[:1000, :1]\n",
    "\n",
    "X_train, X_val, y_train, y_val = train_test_split(X, y, test_size=0.2)\n",
    "\n",
    "X\n",
    "X_test"
   ]
  },
  {
   "cell_type": "code",
   "execution_count": 13,
   "metadata": {},
   "outputs": [],
   "source": [
    "class ImageShapeTransformer():\n",
    "    def __init__(self, in_channels=3, height=32, width=32):\n",
    "        self.in_channels = in_channels\n",
    "        self.height = height\n",
    "        self.width = width\n",
    "        \n",
    "    def __call__(self, img):\n",
    "        return np.array(img).reshape(self.in_channels, self.height, self.width).transpose(1, 2, 0)\n",
    "\n",
    "class MNISTTrainDataset(Dataset):\n",
    "    def __init__(self, images, labels, indices) -> None:\n",
    "        super().__init__()\n",
    "        \n",
    "        print(f\"Adding {len(images)} to images\")\n",
    "        self.images = images\n",
    "        print(f\"Adding {len(labels)} to labels\")\n",
    "        self.labels = labels\n",
    "        print(f\"Adding {len(indices)} to indices\")\n",
    "        self.indices = indices\n",
    "        \n",
    "        self.transform = transforms.Compose([\n",
    "            ImageShapeTransformer(),\n",
    "            \n",
    "            transforms.ToTensor(),\n",
    "            \n",
    "            transforms.RandomRotation(15),\n",
    "            transforms.Normalize([0.5], [0.5]),\n",
    "        ])\n",
    "        \n",
    "    def __len__(self):\n",
    "        return len(self.images)\n",
    "    \n",
    "    def __getitem__(self, index):\n",
    "        \n",
    "        image = self.images.iloc[index]\n",
    "        label = self.labels[index]\n",
    "        index = self.indices[index]\n",
    "        image = self.transform(image)\n",
    "        \n",
    "        return { \n",
    "                'image': image, \n",
    "                'label': label, \n",
    "                'index': index,\n",
    "            } \n",
    "    \n",
    "class MNISTValDataset(Dataset):\n",
    "    def __init__(self, images, labels, indices) -> None:\n",
    "        super().__init__()\n",
    "        self.images = images\n",
    "        self.labels = labels\n",
    "        self.indices = indices\n",
    "        self.transform = transforms.Compose([\n",
    "            ImageShapeTransformer(),\n",
    "            \n",
    "            transforms.ToTensor(), \n",
    "            transforms.Normalize([0.5], [0.5]),\n",
    "        ])\n",
    "        \n",
    "    def __len__(self):\n",
    "        return len(self.images)\n",
    "    \n",
    "    def __getitem__(self, index):\n",
    "        image = self.images.iloc[index]\n",
    "        label = self.labels[index]\n",
    "        index = self.indices[index]\n",
    "        image = self.transform(image)\n",
    "        \n",
    "        return { 'image': image, 'label': label, 'index': index }  \n",
    "    \n",
    "class MNISTTestDataset(Dataset):\n",
    "    def __init__(self, images, indices) -> None:\n",
    "        super().__init__()\n",
    "        self.images = images\n",
    "        self.indices = indices\n",
    "        self.transform = transforms.Compose([\n",
    "            ImageShapeTransformer(),\n",
    "            \n",
    "            transforms.ToTensor(),   \n",
    "            transforms.Normalize([0.5], [0.5]),\n",
    "        ])\n",
    "        \n",
    "    def __len__(self):\n",
    "        return len(self.images)\n",
    "    \n",
    "    def __getitem__(self, index):\n",
    "        image = self.images.iloc[index]\n",
    "        index = self.indices[index]\n",
    "        image = self.transform(image)\n",
    "        \n",
    "        return { 'image': image, 'index': index } "
   ]
  },
  {
   "cell_type": "markdown",
   "metadata": {},
   "source": [
    "## Dataset Tests"
   ]
  },
  {
   "cell_type": "code",
   "execution_count": 14,
   "metadata": {},
   "outputs": [
    {
     "name": "stderr",
     "output_type": "stream",
     "text": [
      "Clipping input data to the valid range for imshow with RGB data ([0..1] for floats or [0..255] for integers).\n",
      "Clipping input data to the valid range for imshow with RGB data ([0..1] for floats or [0..255] for integers).\n",
      "Clipping input data to the valid range for imshow with RGB data ([0..1] for floats or [0..255] for integers).\n"
     ]
    },
    {
     "name": "stdout",
     "output_type": "stream",
     "text": [
      "Adding 8000 to images\n",
      "Adding 8000 to labels\n",
      "Adding 8000 to indices\n"
     ]
    },
    {
     "data": {
      "text/plain": [
       "<Figure size 640x480 with 0 Axes>"
      ]
     },
     "metadata": {},
     "output_type": "display_data"
    },
    {
     "data": {
      "image/png": "[encoded data removed]",
      "text/plain": [
       "<Figure size 640x480 with 3 Axes>"
      ]
     },
     "metadata": {},
     "output_type": "display_data"
    }
   ],
   "source": [
    "plt.figure()\n",
    "f, ax = plt.subplots(1, 3)\n",
    "\n",
    "train_dataset = MNISTTrainDataset(X_train, y_train.values, X_train.index.values)\n",
    "val_dataset = MNISTValDataset(X_val, y_val.values, X_val.index.values)\n",
    "test_dataset = MNISTTestDataset(X_test, X_test.index.values)\n",
    "\n",
    "ax[0].imshow(train_dataset[3]['image'].permute(1, 2, 0).numpy())\n",
    "ax[1].imshow(val_dataset[3]['image'].permute(1, 2, 0).numpy())\n",
    "ax[2].imshow(test_dataset[3]['image'].permute(1, 2, 0).numpy())\n",
    "plt.show()"
   ]
  },
  {
   "cell_type": "code",
   "execution_count": 15,
   "metadata": {},
   "outputs": [],
   "source": [
    "train_dataloader = DataLoader(\n",
    "    train_dataset,\n",
    "    batch_size=batch_size,\n",
    "    shuffle=True\n",
    ")\n",
    "val_dataloader = DataLoader(dataset=val_dataset,\n",
    "                            batch_size=batch_size,\n",
    "                            shuffle=True)\n"
   ]
  },
  {
   "cell_type": "code",
   "execution_count": 16,
   "metadata": {},
   "outputs": [
    {
     "name": "stderr",
     "output_type": "stream",
     "text": [
      "100%|██████████| 16/16 [00:06<00:00,  2.30it/s]\n",
      "100%|██████████| 4/4 [00:00<00:00,  8.95it/s]\n",
      "  2%|▎         | 1/40 [00:07<04:50,  7.44s/it]"
     ]
    },
    {
     "name": "stdout",
     "output_type": "stream",
     "text": [
      "------------------------------\n",
      "Train Loss EPOCH 1: 2.3289\n",
      "Valid Loss EPOCH 1: 2.2915\n",
      "Train Accuracy EPOCH 1: 0.1105\n",
      "Valid Accuracy EPOCH 1: 0.1290\n",
      "------------------------------\n"
     ]
    },
    {
     "name": "stderr",
     "output_type": "stream",
     "text": [
      "100%|██████████| 16/16 [00:06<00:00,  2.44it/s]\n",
      "100%|██████████| 4/4 [00:00<00:00,  9.34it/s]\n",
      "  5%|▌         | 2/40 [00:14<04:33,  7.20s/it]"
     ]
    },
    {
     "name": "stdout",
     "output_type": "stream",
     "text": [
      "------------------------------\n",
      "Train Loss EPOCH 2: 2.2715\n",
      "Valid Loss EPOCH 2: 2.2529\n",
      "Train Accuracy EPOCH 2: 0.1464\n",
      "Valid Accuracy EPOCH 2: 0.1690\n",
      "------------------------------\n"
     ]
    },
    {
     "name": "stderr",
     "output_type": "stream",
     "text": [
      "100%|██████████| 16/16 [00:06<00:00,  2.47it/s]\n",
      "100%|██████████| 4/4 [00:00<00:00,  9.37it/s]\n",
      "  8%|▊         | 3/40 [00:21<04:22,  7.09s/it]"
     ]
    },
    {
     "name": "stdout",
     "output_type": "stream",
     "text": [
      "------------------------------\n",
      "Train Loss EPOCH 3: 2.2241\n",
      "Valid Loss EPOCH 3: 2.1944\n",
      "Train Accuracy EPOCH 3: 0.1735\n",
      "Valid Accuracy EPOCH 3: 0.1905\n",
      "------------------------------\n"
     ]
    },
    {
     "name": "stderr",
     "output_type": "stream",
     "text": [
      "100%|██████████| 16/16 [00:06<00:00,  2.41it/s]\n",
      "100%|██████████| 4/4 [00:00<00:00,  9.28it/s]\n",
      " 10%|█         | 4/40 [00:28<04:15,  7.10s/it]"
     ]
    },
    {
     "name": "stdout",
     "output_type": "stream",
     "text": [
      "------------------------------\n",
      "Train Loss EPOCH 4: 2.1373\n",
      "Valid Loss EPOCH 4: 2.0870\n",
      "Train Accuracy EPOCH 4: 0.2090\n",
      "Valid Accuracy EPOCH 4: 0.2390\n",
      "------------------------------\n"
     ]
    },
    {
     "name": "stderr",
     "output_type": "stream",
     "text": [
      "100%|██████████| 16/16 [00:06<00:00,  2.45it/s]\n",
      "100%|██████████| 4/4 [00:00<00:00,  9.02it/s]\n",
      " 12%|█▎        | 5/40 [00:35<04:07,  7.07s/it]"
     ]
    },
    {
     "name": "stdout",
     "output_type": "stream",
     "text": [
      "------------------------------\n",
      "Train Loss EPOCH 5: 2.0454\n",
      "Valid Loss EPOCH 5: 1.9908\n",
      "Train Accuracy EPOCH 5: 0.2301\n",
      "Valid Accuracy EPOCH 5: 0.2620\n",
      "------------------------------\n"
     ]
    },
    {
     "name": "stderr",
     "output_type": "stream",
     "text": [
      "100%|██████████| 16/16 [00:06<00:00,  2.42it/s]\n",
      "100%|██████████| 4/4 [00:00<00:00,  9.14it/s]\n",
      " 15%|█▌        | 6/40 [00:42<04:00,  7.08s/it]"
     ]
    },
    {
     "name": "stdout",
     "output_type": "stream",
     "text": [
      "------------------------------\n",
      "Train Loss EPOCH 6: 1.9922\n",
      "Valid Loss EPOCH 6: 1.9551\n",
      "Train Accuracy EPOCH 6: 0.2599\n",
      "Valid Accuracy EPOCH 6: 0.2720\n",
      "------------------------------\n"
     ]
    },
    {
     "name": "stderr",
     "output_type": "stream",
     "text": [
      "100%|██████████| 16/16 [00:06<00:00,  2.41it/s]\n",
      "100%|██████████| 4/4 [00:00<00:00,  9.22it/s]\n",
      " 18%|█▊        | 7/40 [00:49<03:54,  7.09s/it]"
     ]
    },
    {
     "name": "stdout",
     "output_type": "stream",
     "text": [
      "------------------------------\n",
      "Train Loss EPOCH 7: 1.9592\n",
      "Valid Loss EPOCH 7: 1.9341\n",
      "Train Accuracy EPOCH 7: 0.2729\n",
      "Valid Accuracy EPOCH 7: 0.2865\n",
      "------------------------------\n"
     ]
    },
    {
     "name": "stderr",
     "output_type": "stream",
     "text": [
      "100%|██████████| 16/16 [00:06<00:00,  2.38it/s]\n",
      "100%|██████████| 4/4 [00:00<00:00,  7.73it/s]\n",
      " 20%|██        | 8/40 [00:57<03:49,  7.16s/it]"
     ]
    },
    {
     "name": "stdout",
     "output_type": "stream",
     "text": [
      "------------------------------\n",
      "Train Loss EPOCH 8: 1.9391\n",
      "Valid Loss EPOCH 8: 1.9183\n",
      "Train Accuracy EPOCH 8: 0.2786\n",
      "Valid Accuracy EPOCH 8: 0.2950\n",
      "------------------------------\n"
     ]
    },
    {
     "name": "stderr",
     "output_type": "stream",
     "text": [
      "100%|██████████| 16/16 [00:07<00:00,  2.24it/s]\n",
      "100%|██████████| 4/4 [00:00<00:00,  9.24it/s]\n",
      " 22%|██▎       | 9/40 [01:04<03:46,  7.31s/it]"
     ]
    },
    {
     "name": "stdout",
     "output_type": "stream",
     "text": [
      "------------------------------\n",
      "Train Loss EPOCH 9: 1.9104\n",
      "Valid Loss EPOCH 9: 1.8963\n",
      "Train Accuracy EPOCH 9: 0.2923\n",
      "Valid Accuracy EPOCH 9: 0.3040\n",
      "------------------------------\n"
     ]
    },
    {
     "name": "stderr",
     "output_type": "stream",
     "text": [
      "100%|██████████| 16/16 [00:06<00:00,  2.38it/s]\n",
      "100%|██████████| 4/4 [00:00<00:00,  9.25it/s]\n",
      " 25%|██▌       | 10/40 [01:11<03:38,  7.27s/it]"
     ]
    },
    {
     "name": "stdout",
     "output_type": "stream",
     "text": [
      "------------------------------\n",
      "Train Loss EPOCH 10: 1.9004\n",
      "Valid Loss EPOCH 10: 1.8834\n",
      "Train Accuracy EPOCH 10: 0.3000\n",
      "Valid Accuracy EPOCH 10: 0.3090\n",
      "------------------------------\n"
     ]
    },
    {
     "name": "stderr",
     "output_type": "stream",
     "text": [
      "100%|██████████| 16/16 [00:06<00:00,  2.40it/s]\n",
      "100%|██████████| 4/4 [00:00<00:00,  8.95it/s]\n",
      " 28%|██▊       | 11/40 [01:19<03:30,  7.24s/it]"
     ]
    },
    {
     "name": "stdout",
     "output_type": "stream",
     "text": [
      "------------------------------\n",
      "Train Loss EPOCH 11: 1.8908\n",
      "Valid Loss EPOCH 11: 1.8728\n",
      "Train Accuracy EPOCH 11: 0.2993\n",
      "Valid Accuracy EPOCH 11: 0.3235\n",
      "------------------------------\n"
     ]
    },
    {
     "name": "stderr",
     "output_type": "stream",
     "text": [
      "100%|██████████| 16/16 [00:06<00:00,  2.37it/s]\n",
      "100%|██████████| 4/4 [00:00<00:00,  9.27it/s]\n",
      " 30%|███       | 12/40 [01:26<03:22,  7.24s/it]"
     ]
    },
    {
     "name": "stdout",
     "output_type": "stream",
     "text": [
      "------------------------------\n",
      "Train Loss EPOCH 12: 1.8804\n",
      "Valid Loss EPOCH 12: 1.8596\n",
      "Train Accuracy EPOCH 12: 0.3053\n",
      "Valid Accuracy EPOCH 12: 0.3255\n",
      "------------------------------\n"
     ]
    },
    {
     "name": "stderr",
     "output_type": "stream",
     "text": [
      "100%|██████████| 16/16 [00:06<00:00,  2.46it/s]\n",
      "100%|██████████| 4/4 [00:00<00:00,  9.31it/s]\n",
      " 32%|███▎      | 13/40 [01:33<03:13,  7.16s/it]"
     ]
    },
    {
     "name": "stdout",
     "output_type": "stream",
     "text": [
      "------------------------------\n",
      "Train Loss EPOCH 13: 1.8625\n",
      "Valid Loss EPOCH 13: 1.8425\n",
      "Train Accuracy EPOCH 13: 0.3232\n",
      "Valid Accuracy EPOCH 13: 0.3400\n",
      "------------------------------\n"
     ]
    },
    {
     "name": "stderr",
     "output_type": "stream",
     "text": [
      "100%|██████████| 16/16 [00:06<00:00,  2.33it/s]\n",
      "100%|██████████| 4/4 [00:00<00:00,  9.18it/s]\n",
      " 35%|███▌      | 14/40 [01:40<03:07,  7.23s/it]"
     ]
    },
    {
     "name": "stdout",
     "output_type": "stream",
     "text": [
      "------------------------------\n",
      "Train Loss EPOCH 14: 1.8410\n",
      "Valid Loss EPOCH 14: 1.8316\n",
      "Train Accuracy EPOCH 14: 0.3281\n",
      "Valid Accuracy EPOCH 14: 0.3405\n",
      "------------------------------\n"
     ]
    },
    {
     "name": "stderr",
     "output_type": "stream",
     "text": [
      "100%|██████████| 16/16 [00:06<00:00,  2.35it/s]\n",
      "100%|██████████| 4/4 [00:00<00:00,  9.22it/s]\n",
      " 38%|███▊      | 15/40 [01:47<03:01,  7.24s/it]"
     ]
    },
    {
     "name": "stdout",
     "output_type": "stream",
     "text": [
      "------------------------------\n",
      "Train Loss EPOCH 15: 1.8272\n",
      "Valid Loss EPOCH 15: 1.8299\n",
      "Train Accuracy EPOCH 15: 0.3340\n",
      "Valid Accuracy EPOCH 15: 0.3365\n",
      "------------------------------\n"
     ]
    },
    {
     "name": "stderr",
     "output_type": "stream",
     "text": [
      "100%|██████████| 16/16 [00:06<00:00,  2.36it/s]\n",
      "100%|██████████| 4/4 [00:00<00:00,  9.44it/s]\n",
      " 40%|████      | 16/40 [01:55<02:54,  7.25s/it]"
     ]
    },
    {
     "name": "stdout",
     "output_type": "stream",
     "text": [
      "------------------------------\n",
      "Train Loss EPOCH 16: 1.8098\n",
      "Valid Loss EPOCH 16: 1.7968\n",
      "Train Accuracy EPOCH 16: 0.3475\n",
      "Valid Accuracy EPOCH 16: 0.3510\n",
      "------------------------------\n"
     ]
    },
    {
     "name": "stderr",
     "output_type": "stream",
     "text": [
      "100%|██████████| 16/16 [00:06<00:00,  2.39it/s]\n",
      "100%|██████████| 4/4 [00:00<00:00,  9.21it/s]\n",
      " 42%|████▎     | 17/40 [02:02<02:46,  7.23s/it]"
     ]
    },
    {
     "name": "stdout",
     "output_type": "stream",
     "text": [
      "------------------------------\n",
      "Train Loss EPOCH 17: 1.7892\n",
      "Valid Loss EPOCH 17: 1.7750\n",
      "Train Accuracy EPOCH 17: 0.3453\n",
      "Valid Accuracy EPOCH 17: 0.3530\n",
      "------------------------------\n"
     ]
    },
    {
     "name": "stderr",
     "output_type": "stream",
     "text": [
      "100%|██████████| 16/16 [00:06<00:00,  2.33it/s]\n",
      "100%|██████████| 4/4 [00:00<00:00,  8.80it/s]\n",
      " 45%|████▌     | 18/40 [02:09<02:39,  7.27s/it]"
     ]
    },
    {
     "name": "stdout",
     "output_type": "stream",
     "text": [
      "------------------------------\n",
      "Train Loss EPOCH 18: 1.7858\n",
      "Valid Loss EPOCH 18: 1.7537\n",
      "Train Accuracy EPOCH 18: 0.3496\n",
      "Valid Accuracy EPOCH 18: 0.3650\n",
      "------------------------------\n"
     ]
    },
    {
     "name": "stderr",
     "output_type": "stream",
     "text": [
      "100%|██████████| 16/16 [00:07<00:00,  2.28it/s]\n",
      "100%|██████████| 4/4 [00:00<00:00,  8.37it/s]\n",
      " 48%|████▊     | 19/40 [02:17<02:34,  7.36s/it]"
     ]
    },
    {
     "name": "stdout",
     "output_type": "stream",
     "text": [
      "------------------------------\n",
      "Train Loss EPOCH 19: 1.7610\n",
      "Valid Loss EPOCH 19: 1.7528\n",
      "Train Accuracy EPOCH 19: 0.3558\n",
      "Valid Accuracy EPOCH 19: 0.3595\n",
      "------------------------------\n"
     ]
    },
    {
     "name": "stderr",
     "output_type": "stream",
     "text": [
      "100%|██████████| 16/16 [00:07<00:00,  2.26it/s]\n",
      "100%|██████████| 4/4 [00:00<00:00,  6.64it/s]\n",
      " 50%|█████     | 20/40 [02:25<02:29,  7.47s/it]"
     ]
    },
    {
     "name": "stdout",
     "output_type": "stream",
     "text": [
      "------------------------------\n",
      "Train Loss EPOCH 20: 1.7428\n",
      "Valid Loss EPOCH 20: 1.7591\n",
      "Train Accuracy EPOCH 20: 0.3700\n",
      "Valid Accuracy EPOCH 20: 0.3640\n",
      "------------------------------\n"
     ]
    },
    {
     "name": "stderr",
     "output_type": "stream",
     "text": [
      "100%|██████████| 16/16 [00:07<00:00,  2.27it/s]\n",
      "100%|██████████| 4/4 [00:00<00:00,  9.36it/s]\n",
      " 52%|█████▎    | 21/40 [02:32<02:22,  7.49s/it]"
     ]
    },
    {
     "name": "stdout",
     "output_type": "stream",
     "text": [
      "------------------------------\n",
      "Train Loss EPOCH 21: 1.7324\n",
      "Valid Loss EPOCH 21: 1.7234\n",
      "Train Accuracy EPOCH 21: 0.3700\n",
      "Valid Accuracy EPOCH 21: 0.3755\n",
      "------------------------------\n"
     ]
    },
    {
     "name": "stderr",
     "output_type": "stream",
     "text": [
      "100%|██████████| 16/16 [00:06<00:00,  2.36it/s]\n",
      "100%|██████████| 4/4 [00:00<00:00,  9.32it/s]\n",
      " 55%|█████▌    | 22/40 [02:39<02:13,  7.42s/it]"
     ]
    },
    {
     "name": "stdout",
     "output_type": "stream",
     "text": [
      "------------------------------\n",
      "Train Loss EPOCH 22: 1.7125\n",
      "Valid Loss EPOCH 22: 1.7075\n",
      "Train Accuracy EPOCH 22: 0.3782\n",
      "Valid Accuracy EPOCH 22: 0.3915\n",
      "------------------------------\n"
     ]
    },
    {
     "name": "stderr",
     "output_type": "stream",
     "text": [
      "100%|██████████| 16/16 [00:06<00:00,  2.41it/s]\n",
      "100%|██████████| 4/4 [00:00<00:00,  8.84it/s]\n",
      " 57%|█████▊    | 23/40 [02:46<02:04,  7.33s/it]"
     ]
    },
    {
     "name": "stdout",
     "output_type": "stream",
     "text": [
      "------------------------------\n",
      "Train Loss EPOCH 23: 1.7039\n",
      "Valid Loss EPOCH 23: 1.7218\n",
      "Train Accuracy EPOCH 23: 0.3822\n",
      "Valid Accuracy EPOCH 23: 0.3770\n",
      "------------------------------\n"
     ]
    },
    {
     "name": "stderr",
     "output_type": "stream",
     "text": [
      "100%|██████████| 16/16 [00:07<00:00,  2.28it/s]\n",
      "100%|██████████| 4/4 [00:00<00:00,  8.73it/s]\n",
      " 60%|██████    | 24/40 [02:54<01:58,  7.40s/it]"
     ]
    },
    {
     "name": "stdout",
     "output_type": "stream",
     "text": [
      "------------------------------\n",
      "Train Loss EPOCH 24: 1.6820\n",
      "Valid Loss EPOCH 24: 1.6998\n",
      "Train Accuracy EPOCH 24: 0.3997\n",
      "Valid Accuracy EPOCH 24: 0.3935\n",
      "------------------------------\n"
     ]
    },
    {
     "name": "stderr",
     "output_type": "stream",
     "text": [
      "100%|██████████| 16/16 [00:06<00:00,  2.37it/s]\n",
      "100%|██████████| 4/4 [00:00<00:00,  9.40it/s]\n",
      " 62%|██████▎   | 25/40 [03:01<01:50,  7.35s/it]"
     ]
    },
    {
     "name": "stdout",
     "output_type": "stream",
     "text": [
      "------------------------------\n",
      "Train Loss EPOCH 25: 1.6728\n",
      "Valid Loss EPOCH 25: 1.6870\n",
      "Train Accuracy EPOCH 25: 0.3967\n",
      "Valid Accuracy EPOCH 25: 0.3885\n",
      "------------------------------\n"
     ]
    },
    {
     "name": "stderr",
     "output_type": "stream",
     "text": [
      "100%|██████████| 16/16 [00:06<00:00,  2.43it/s]\n",
      "100%|██████████| 4/4 [00:00<00:00,  9.35it/s]\n",
      " 65%|██████▌   | 26/40 [03:08<01:41,  7.26s/it]"
     ]
    },
    {
     "name": "stdout",
     "output_type": "stream",
     "text": [
      "------------------------------\n",
      "Train Loss EPOCH 26: 1.6548\n",
      "Valid Loss EPOCH 26: 1.6819\n",
      "Train Accuracy EPOCH 26: 0.4021\n",
      "Valid Accuracy EPOCH 26: 0.3860\n",
      "------------------------------\n"
     ]
    },
    {
     "name": "stderr",
     "output_type": "stream",
     "text": [
      "100%|██████████| 16/16 [00:06<00:00,  2.39it/s]\n",
      "100%|██████████| 4/4 [00:00<00:00,  9.25it/s]\n",
      " 68%|██████▊   | 27/40 [03:16<01:34,  7.24s/it]"
     ]
    },
    {
     "name": "stdout",
     "output_type": "stream",
     "text": [
      "------------------------------\n",
      "Train Loss EPOCH 27: 1.6547\n",
      "Valid Loss EPOCH 27: 1.6771\n",
      "Train Accuracy EPOCH 27: 0.3992\n",
      "Valid Accuracy EPOCH 27: 0.4020\n",
      "------------------------------\n"
     ]
    },
    {
     "name": "stderr",
     "output_type": "stream",
     "text": [
      "100%|██████████| 16/16 [00:06<00:00,  2.36it/s]\n",
      "100%|██████████| 4/4 [00:00<00:00,  9.28it/s]\n",
      " 70%|███████   | 28/40 [03:23<01:26,  7.24s/it]"
     ]
    },
    {
     "name": "stdout",
     "output_type": "stream",
     "text": [
      "------------------------------\n",
      "Train Loss EPOCH 28: 1.6317\n",
      "Valid Loss EPOCH 28: 1.6534\n",
      "Train Accuracy EPOCH 28: 0.4130\n",
      "Valid Accuracy EPOCH 28: 0.4045\n",
      "------------------------------\n"
     ]
    },
    {
     "name": "stderr",
     "output_type": "stream",
     "text": [
      "100%|██████████| 16/16 [00:06<00:00,  2.37it/s]\n",
      "100%|██████████| 4/4 [00:00<00:00,  9.39it/s]\n",
      " 72%|███████▎  | 29/40 [03:30<01:19,  7.24s/it]"
     ]
    },
    {
     "name": "stdout",
     "output_type": "stream",
     "text": [
      "------------------------------\n",
      "Train Loss EPOCH 29: 1.6274\n",
      "Valid Loss EPOCH 29: 1.6352\n",
      "Train Accuracy EPOCH 29: 0.4103\n",
      "Valid Accuracy EPOCH 29: 0.4080\n",
      "------------------------------\n"
     ]
    },
    {
     "name": "stderr",
     "output_type": "stream",
     "text": [
      "100%|██████████| 16/16 [00:06<00:00,  2.45it/s]\n",
      "100%|██████████| 4/4 [00:00<00:00,  9.24it/s]\n",
      " 75%|███████▌  | 30/40 [03:37<01:11,  7.17s/it]"
     ]
    },
    {
     "name": "stdout",
     "output_type": "stream",
     "text": [
      "------------------------------\n",
      "Train Loss EPOCH 30: 1.6046\n",
      "Valid Loss EPOCH 30: 1.6441\n",
      "Train Accuracy EPOCH 30: 0.4190\n",
      "Valid Accuracy EPOCH 30: 0.4060\n",
      "------------------------------\n"
     ]
    },
    {
     "name": "stderr",
     "output_type": "stream",
     "text": [
      "100%|██████████| 16/16 [00:06<00:00,  2.46it/s]\n",
      "100%|██████████| 4/4 [00:00<00:00,  9.28it/s]\n",
      " 78%|███████▊  | 31/40 [03:44<01:04,  7.12s/it]"
     ]
    },
    {
     "name": "stdout",
     "output_type": "stream",
     "text": [
      "------------------------------\n",
      "Train Loss EPOCH 31: 1.6096\n",
      "Valid Loss EPOCH 31: 1.6487\n",
      "Train Accuracy EPOCH 31: 0.4143\n",
      "Valid Accuracy EPOCH 31: 0.4025\n",
      "------------------------------\n"
     ]
    },
    {
     "name": "stderr",
     "output_type": "stream",
     "text": [
      "100%|██████████| 16/16 [00:06<00:00,  2.37it/s]\n",
      "100%|██████████| 4/4 [00:00<00:00,  9.46it/s]\n",
      " 80%|████████  | 32/40 [03:51<00:57,  7.15s/it]"
     ]
    },
    {
     "name": "stdout",
     "output_type": "stream",
     "text": [
      "------------------------------\n",
      "Train Loss EPOCH 32: 1.5915\n",
      "Valid Loss EPOCH 32: 1.6432\n",
      "Train Accuracy EPOCH 32: 0.4253\n",
      "Valid Accuracy EPOCH 32: 0.3925\n",
      "------------------------------\n"
     ]
    },
    {
     "name": "stderr",
     "output_type": "stream",
     "text": [
      "100%|██████████| 16/16 [00:06<00:00,  2.40it/s]\n",
      "100%|██████████| 4/4 [00:00<00:00,  9.14it/s]\n",
      " 82%|████████▎ | 33/40 [03:58<00:50,  7.16s/it]"
     ]
    },
    {
     "name": "stdout",
     "output_type": "stream",
     "text": [
      "------------------------------\n",
      "Train Loss EPOCH 33: 1.5810\n",
      "Valid Loss EPOCH 33: 1.6318\n",
      "Train Accuracy EPOCH 33: 0.4320\n",
      "Valid Accuracy EPOCH 33: 0.4105\n",
      "------------------------------\n"
     ]
    },
    {
     "name": "stderr",
     "output_type": "stream",
     "text": [
      "100%|██████████| 16/16 [00:06<00:00,  2.43it/s]\n",
      "100%|██████████| 4/4 [00:00<00:00,  9.36it/s]\n",
      " 85%|████████▌ | 34/40 [04:05<00:42,  7.13s/it]"
     ]
    },
    {
     "name": "stdout",
     "output_type": "stream",
     "text": [
      "------------------------------\n",
      "Train Loss EPOCH 34: 1.5830\n",
      "Valid Loss EPOCH 34: 1.6150\n",
      "Train Accuracy EPOCH 34: 0.4243\n",
      "Valid Accuracy EPOCH 34: 0.4280\n",
      "------------------------------\n"
     ]
    },
    {
     "name": "stderr",
     "output_type": "stream",
     "text": [
      "100%|██████████| 16/16 [00:06<00:00,  2.41it/s]\n",
      "100%|██████████| 4/4 [00:00<00:00,  9.26it/s]\n",
      " 88%|████████▊ | 35/40 [04:13<00:35,  7.13s/it]"
     ]
    },
    {
     "name": "stdout",
     "output_type": "stream",
     "text": [
      "------------------------------\n",
      "Train Loss EPOCH 35: 1.5592\n",
      "Valid Loss EPOCH 35: 1.5921\n",
      "Train Accuracy EPOCH 35: 0.4328\n",
      "Valid Accuracy EPOCH 35: 0.4355\n",
      "------------------------------\n"
     ]
    },
    {
     "name": "stderr",
     "output_type": "stream",
     "text": [
      "100%|██████████| 16/16 [00:06<00:00,  2.40it/s]\n",
      "100%|██████████| 4/4 [00:00<00:00,  9.28it/s]\n",
      " 90%|█████████ | 36/40 [04:20<00:28,  7.14s/it]"
     ]
    },
    {
     "name": "stdout",
     "output_type": "stream",
     "text": [
      "------------------------------\n",
      "Train Loss EPOCH 36: 1.5556\n",
      "Valid Loss EPOCH 36: 1.5756\n",
      "Train Accuracy EPOCH 36: 0.4395\n",
      "Valid Accuracy EPOCH 36: 0.4355\n",
      "------------------------------\n"
     ]
    },
    {
     "name": "stderr",
     "output_type": "stream",
     "text": [
      "100%|██████████| 16/16 [00:06<00:00,  2.40it/s]\n",
      "100%|██████████| 4/4 [00:00<00:00,  9.29it/s]\n",
      " 92%|█████████▎| 37/40 [04:27<00:21,  7.14s/it]"
     ]
    },
    {
     "name": "stdout",
     "output_type": "stream",
     "text": [
      "------------------------------\n",
      "Train Loss EPOCH 37: 1.5463\n",
      "Valid Loss EPOCH 37: 1.5963\n",
      "Train Accuracy EPOCH 37: 0.4377\n",
      "Valid Accuracy EPOCH 37: 0.4240\n",
      "------------------------------\n"
     ]
    },
    {
     "name": "stderr",
     "output_type": "stream",
     "text": [
      "100%|██████████| 16/16 [00:06<00:00,  2.32it/s]\n",
      "100%|██████████| 4/4 [00:00<00:00,  8.92it/s]\n",
      " 95%|█████████▌| 38/40 [04:34<00:14,  7.22s/it]"
     ]
    },
    {
     "name": "stdout",
     "output_type": "stream",
     "text": [
      "------------------------------\n",
      "Train Loss EPOCH 38: 1.5392\n",
      "Valid Loss EPOCH 38: 1.5704\n",
      "Train Accuracy EPOCH 38: 0.4444\n",
      "Valid Accuracy EPOCH 38: 0.4370\n",
      "------------------------------\n"
     ]
    },
    {
     "name": "stderr",
     "output_type": "stream",
     "text": [
      "100%|██████████| 16/16 [00:07<00:00,  2.25it/s]\n",
      "100%|██████████| 4/4 [00:00<00:00,  9.76it/s]\n",
      " 98%|█████████▊| 39/40 [04:42<00:07,  7.32s/it]"
     ]
    },
    {
     "name": "stdout",
     "output_type": "stream",
     "text": [
      "------------------------------\n",
      "Train Loss EPOCH 39: 1.5380\n",
      "Valid Loss EPOCH 39: 1.5696\n",
      "Train Accuracy EPOCH 39: 0.4411\n",
      "Valid Accuracy EPOCH 39: 0.4425\n",
      "------------------------------\n"
     ]
    },
    {
     "name": "stderr",
     "output_type": "stream",
     "text": [
      "100%|██████████| 16/16 [00:06<00:00,  2.34it/s]\n",
      "100%|██████████| 4/4 [00:00<00:00,  9.02it/s]\n",
      "100%|██████████| 40/40 [04:49<00:00,  7.24s/it]"
     ]
    },
    {
     "name": "stdout",
     "output_type": "stream",
     "text": [
      "------------------------------\n",
      "Train Loss EPOCH 40: 1.5152\n",
      "Valid Loss EPOCH 40: 1.5676\n",
      "Train Accuracy EPOCH 40: 0.4601\n",
      "Valid Accuracy EPOCH 40: 0.4460\n",
      "------------------------------\n",
      "Training Time: 289.72s\n"
     ]
    },
    {
     "name": "stderr",
     "output_type": "stream",
     "text": [
      "\n"
     ]
    }
   ],
   "source": [
    "criterion = nn.CrossEntropyLoss() \n",
    "optimizer = optim.Adam(model.parameters(), betas=adam_betas, lr=learning_rate, weight_decay=adam_weight_decay)\n",
    "\n",
    "start = timeit.default_timer()\n",
    "for epoch in tqdm(range(epochs), position=0, leave=True):\n",
    "    model.train()\n",
    "    train_labels = []\n",
    "    train_preds = []\n",
    "    train_running_loss = 0\n",
    "    \n",
    "    for idx, img_label in enumerate(tqdm(train_dataloader, position=0, leave=True)):\n",
    "        \n",
    "        img = img_label[\"image\"].float().to(device)\n",
    "        label = img_label[\"label\"].type(torch.long).squeeze(dim=1).to(device)\n",
    "        \n",
    "        y_pred = model(img)\n",
    "        y_pred_label = torch.argmax(y_pred, dim=1)\n",
    "        \n",
    "        train_labels.extend(label.cpu().detach())\n",
    "        train_preds.extend(y_pred_label.cpu().detach())\n",
    "        \n",
    "        loss = criterion(y_pred, label)\n",
    "        optimizer.zero_grad()\n",
    "        \n",
    "        loss.backward()\n",
    "        optimizer.step()\n",
    "        \n",
    "        train_running_loss += loss.item()\n",
    "        \n",
    "    train_loss = train_running_loss / (idx + 1)\n",
    "\n",
    "    model.eval()\n",
    "    val_labels = []\n",
    "    val_preds = []\n",
    "    val_running_loss = 0\n",
    "    \n",
    "    with torch.no_grad():\n",
    "        for idx, img_label in enumerate(tqdm(val_dataloader, position=0, leave=True)):\n",
    "            img = img_label[\"image\"].float().to(device)\n",
    "            label = img_label[\"label\"].type(torch.uint8).squeeze(dim=1).to(device)         \n",
    "            y_pred = model(img)\n",
    "            y_pred_label = torch.argmax(y_pred, dim=1)\n",
    "            \n",
    "            val_labels.extend(label.cpu().detach())\n",
    "            val_preds.extend(y_pred_label.cpu().detach())\n",
    "            \n",
    "            loss = criterion(y_pred, label)\n",
    "            val_running_loss += loss.item()\n",
    "    val_loss = val_running_loss / (idx + 1)\n",
    "\n",
    "    print(\"-\"*30)\n",
    "    print(f\"Train Loss EPOCH {epoch+1}: {train_loss:.4f}\")\n",
    "    print(f\"Valid Loss EPOCH {epoch+1}: {val_loss:.4f}\")\n",
    "    print(f\"Train Accuracy EPOCH {epoch+1}: {sum(1 for x,y in zip(train_preds, train_labels) if x == y) / len(train_labels):.4f}\")\n",
    "    print(f\"Valid Accuracy EPOCH {epoch+1}: {sum(1 for x,y in zip(val_preds, val_labels) if x == y) / len(val_labels):.4f}\")\n",
    "    print(\"-\"*30)\n",
    "\n",
    "stop = timeit.default_timer()\n",
    "print(f\"Training Time: {stop-start:.2f}s\")"
   ]
  }
 ],
 "metadata": {
  "kernelspec": {
   "display_name": ".final",
   "language": "python",
   "name": "python3"
  },
  "language_info": {
   "codemirror_mode": {
    "name": "ipython",
    "version": 3
   },
   "file_extension": ".py",
   "mimetype": "text/x-python",
   "name": "python",
   "nbconvert_exporter": "python",
   "pygments_lexer": "ipython3",
   "version": "3.11.5"
  }
 },
 "nbformat": 4,
 "nbformat_minor": 2
}
